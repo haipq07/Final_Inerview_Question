{
 "cells": [
  {
   "attachments": {},
   "cell_type": "markdown",
   "metadata": {},
   "source": [
    "Implement an algorithm to determine if a string is one character \n",
    "replacement away of another string. For example, a true one would be: dog,\n",
    "dig\n",
    "\n",
    "\n"
   ]
  },
  {
   "cell_type": "code",
   "execution_count": 16,
   "metadata": {},
   "outputs": [
    {
     "name": "stdout",
     "output_type": "stream",
     "text": [
      "True\n"
     ]
    }
   ],
   "source": [
    "def check_string(s1,s2):\n",
    "    if(len(s1)==0 or len(s2)==0): # check if any String is None return False\n",
    "        return False \n",
    "    if (len(s1) != len(s2)):#check length of two string if not equals return False\n",
    "        return False\n",
    "        \n",
    "    c=0\n",
    "    for i in range (len(s2)):# create loop to check each element in s1 actually in s2\n",
    "        if s1[i] != s2[i]:#    count any element is not in s2 if c=0 is mean s1 and s2 simliar reuturn False\n",
    "            c+=1            #if c=1 is onnly 1 letter is different return True\n",
    "    if(c==1):\n",
    "        return True\n",
    "    return False\n",
    "    \n",
    "s1=\"dog\"\n",
    "s2=\"dig\"\n",
    "print(check_string(s1,s2))"
   ]
  },
  {
   "cell_type": "markdown",
   "metadata": {},
   "source": [
    "Compress a string in the following format where it counts the repeated \n",
    "characters. For example, the string aaabbbbcc would be compressed to \n",
    "a3b4c2"
   ]
  },
  {
   "cell_type": "code",
   "execution_count": null,
   "metadata": {},
   "outputs": [],
   "source": [
    "#create an array from 0 to 122\n",
    "#convert char to int and +1 to that position to arr\n",
    "#look back the arr if the value's element is not 0 print out  \n",
    "def compress(s):\n",
    "    arr=[0]*122\n",
    "    for i in range (len(s)):\n",
    "        arr[ord(s[i])]+=1\n",
    "    for j in range (len(arr)):\n",
    "        if arr[j]!=0:\n",
    "            print(chr(j),end=\"\")\n",
    "            print(arr[j],end=\"\")\n",
    "\n",
    "\n",
    "\n",
    "s=\"aaabbbbcc\"\n",
    "compress(s)"
   ]
  },
  {
   "cell_type": "markdown",
   "metadata": {},
   "source": [
    "Implement an algorithm to delete a node from the middle of a linked list. \n",
    "Doesn’t have to be the exact middle. Any node as long as its not the first or \n",
    "last"
   ]
  },
  {
   "cell_type": "code",
   "execution_count": null,
   "metadata": {},
   "outputs": [
    {
     "name": "stdout",
     "output_type": "stream",
     "text": [
      "a a b a a "
     ]
    }
   ],
   "source": [
    "class Node:\n",
    "    def __init__(self, data):\n",
    "        self.data = data\n",
    "        self.next = None\n",
    "class LinkedList:\n",
    "    def __init__(self):\n",
    "        self.head=None\n",
    "        \n",
    "    def insertAtBegin(self, data):\n",
    "        new_node = Node(data)\n",
    "        if self.head is None:\n",
    "            self.head = new_node\n",
    "            return\n",
    "        else:\n",
    "            new_node.next = self.head\n",
    "            self.head = new_node\n",
    "    def RemoveAtMid(self,mid):\n",
    "        if self.head is None:\n",
    "            return\n",
    "        position=0\n",
    "        curr=self.head    \n",
    "        while (curr is not None and position<mid-1):\n",
    "            curr=curr.next\n",
    "            position+=1\n",
    "        if curr is None or curr.next is None:\n",
    "            print(\"Index not present\")\n",
    "    def printLL(self):\n",
    "        current_node = self.head\n",
    "        while current_node:\n",
    "            print(current_node.data,end=\" \")\n",
    "            current_node = current_node.next\n",
    "    def sizeOfLL(self):\n",
    "        size = 0\n",
    "        current_node = self.head\n",
    "        while current_node:\n",
    "            size += 1\n",
    "            current_node = current_node.next\n",
    "        return size\n",
    "    def sreach(self,data):\n",
    "        current_node = self.head\n",
    "        size=0\n",
    "        while current_node and current_node!=data:\n",
    "            size += 1\n",
    "            current_node = current_node.next\n",
    "        \n",
    "        \n",
    "llink=LinkedList()\n",
    "llink.insertAtBegin('a')\n",
    "llink.insertAtBegin('a')\n",
    "llink.insertAtBegin('b')\n",
    "llink.insertAtBegin('a')\n",
    "llink.insertAtBegin('a')\n",
    "llink.sizeOfLL()\n",
    "llink.printLL()\n"
   ]
  },
  {
   "cell_type": "markdown",
   "metadata": {},
   "source": [
    "Implement a method to sort a stack such that the smallest items are on \n",
    "the top. You can use an additional temporary stack, but you may not copy \n",
    "the elements into any other data structure. The stack supports push, pop, \n",
    "peek and isEmpty"
   ]
  },
  {
   "cell_type": "code",
   "execution_count": null,
   "metadata": {},
   "outputs": [],
   "source": [
    "def SorStack(stack):\n",
    "    tmpStack=[]\n",
    "    if(stack.isEmpty): # check stack is empty\n",
    "        return stack\n",
    "    tmpStack.push(stack.pop())# push first elemt from stack to tmpstack\n",
    "    while(stack.isEmpty()!=True): #\n",
    "        temp=stack.pop()# temp will hold the value pop from stack\n",
    "        while(tmpStack.isEmpty()!= True) and temp>tmpStack.peek() : # use loop to find right position to push temp\n",
    "            stack.push(tmpStack.pop())\n",
    "        tmpStack.push(temp)\n",
    "\n",
    "    return tmpStack\n",
    "        \n",
    "\n",
    "    \n",
    "stack=[1,3,17,4,5,9,3]"
   ]
  }
 ],
 "metadata": {
  "kernelspec": {
   "display_name": "Python 3",
   "language": "python",
   "name": "python3"
  },
  "language_info": {
   "codemirror_mode": {
    "name": "ipython",
    "version": 3
   },
   "file_extension": ".py",
   "mimetype": "text/x-python",
   "name": "python",
   "nbconvert_exporter": "python",
   "pygments_lexer": "ipython3",
   "version": "3.11.1"
  },
  "orig_nbformat": 4
 },
 "nbformat": 4,
 "nbformat_minor": 2
}
